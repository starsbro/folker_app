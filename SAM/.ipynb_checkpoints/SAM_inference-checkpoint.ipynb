{
 "cells": [
  {
   "cell_type": "code",
   "execution_count": null,
   "id": "7f87fad3",
   "metadata": {},
   "outputs": [],
   "source": [
    "from segment_anything import sam_model_registry, SamPredictor\n",
    "from PIL import Image\n",
    "import numpy as np\n",
    "import matplotlib.pyplot as plt\n",
    "import os\n",
    "\n",
    "os.environ[\"OMP_NUM_THREADS\"] = \"1\"\n",
    "os.environ[\"KMP_DUPLICATE_LIB_OK\"] = \"TRUE\"\n",
    "\n",
    "sam = sam_model_registry[\"vit_h\"](checkpoint=\"./segment-anything/checkpoint/sam_vit_h_4b8939.pth\")\n",
    "predictor = SamPredictor(sam)\n",
    "\n",
    "image = Image.open(\"./image/img01.jpg\") \n",
    "image_np = np.array(image)\n",
    "predictor.set_image(image_np)\n",
    "\n",
    "input_point = np.array([[500,300]])  \n",
    "input_label = np.array([1])\n",
    "\n",
    "masks, scores, logits = predictor.predict(\n",
    "    point_coords=input_point,\n",
    "    point_labels=input_label,\n",
    "    multimask_output=True,\n",
    ")\n",
    "\n",
    "plt.imshow(masks[0])\n",
    "plt.show()\n",
    "plt.imsave(\"./image/output_mask.jpg\", masks[0])"
   ]
  }
 ],
 "metadata": {
  "kernelspec": {
   "display_name": "myenv",
   "language": "python",
   "name": "myenv"
  },
  "language_info": {
   "codemirror_mode": {
    "name": "ipython",
    "version": 3
   },
   "file_extension": ".py",
   "mimetype": "text/x-python",
   "name": "python",
   "nbconvert_exporter": "python",
   "pygments_lexer": "ipython3",
   "version": "3.7.1"
  }
 },
 "nbformat": 4,
 "nbformat_minor": 5
}
