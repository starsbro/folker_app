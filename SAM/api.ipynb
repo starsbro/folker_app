{
 "cells": [
  {
   "cell_type": "code",
   "execution_count": null,
   "id": "6260ae64",
   "metadata": {},
   "outputs": [],
   "source": [
    "from fastapi import FastAPI, UploadFile, File\n",
    "from segment_anything import sam_model_registry, SamPredictor\n",
    "from PIL import Image\n",
    "import numpy as np\n",
    "import io\n",
    "\n",
    "app = FastAPI()\n",
    "\n",
    "sam = sam_model_registry[\"vit_h\"](checkpoint=\"./segment-anything/checkpoint/sam_vit_h_4b8939.pth\")\n",
    "predictor = SamPredictor(sam)\n",
    "\n",
    "@app.post(\"/predict/\")\n",
    "async def predict_mask(file: UploadFile = File(...), x: int = 0, y: int = 0):\n",
    "    image = Image.open(io.BytesIO(await file.read()))\n",
    "    image_np = np.array(image)\n",
    "    predictor.set_image(image_np)\n",
    "\n",
    "    input_point = np.array([[500,300]])\n",
    "    input_label = np.array([1])\n",
    "\n",
    "    masks, _, _ = predictor.predict(point_coords=input_point, point_labels=input_label, multimask_output=True)\n",
    "\n",
    "    return {\"mask\": masks[0].tolist()}"
   ]
  }
 ],
 "metadata": {
  "kernelspec": {
   "display_name": "myenv",
   "language": "python",
   "name": "myenv"
  },
  "language_info": {
   "codemirror_mode": {
    "name": "ipython",
    "version": 3
   },
   "file_extension": ".py",
   "mimetype": "text/x-python",
   "name": "python",
   "nbconvert_exporter": "python",
   "pygments_lexer": "ipython3",
   "version": "3.7.1"
  }
 },
 "nbformat": 4,
 "nbformat_minor": 5
}
